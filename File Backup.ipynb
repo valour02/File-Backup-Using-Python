{
 "cells": [
  {
   "cell_type": "code",
   "execution_count": 1,
   "id": "79b139a5-a3ae-42aa-998e-8011001e74e8",
   "metadata": {},
   "outputs": [],
   "source": [
    "import shutil\n",
    "import os\n",
    "\n",
    "def backup_files(src_dir, dest_dir):\n",
    "    if not os.path.exists(dest_dir):\n",
    "        os.makedirs(dest_dir)\n",
    "    for file in os.listdir(src_dir):\n",
    "        full_file_name = os.path.join(src_dir, file)\n",
    "        if os.path.isfile(full_file_name):\n",
    "            shutil.copy(full_file_name, dest_dir)\n",
    "            print(f\"Backed up {file} to {dest_dir}\")"
   ]
  },
  {
   "cell_type": "code",
   "execution_count": 2,
   "id": "b4aed143-a0e0-4f54-9790-21423bec0540",
   "metadata": {},
   "outputs": [
    {
     "name": "stdout",
     "output_type": "stream",
     "text": [
      "Backed up 1.pdf to C:\\Users\\naveen kumar pandey\\Desktop\\PAPER_\\TRY\n",
      "Backed up 10.pdf to C:\\Users\\naveen kumar pandey\\Desktop\\PAPER_\\TRY\n",
      "Backed up 11.pdf to C:\\Users\\naveen kumar pandey\\Desktop\\PAPER_\\TRY\n",
      "Backed up 12.pdf to C:\\Users\\naveen kumar pandey\\Desktop\\PAPER_\\TRY\n",
      "Backed up 13.pdf to C:\\Users\\naveen kumar pandey\\Desktop\\PAPER_\\TRY\n",
      "Backed up 14.pdf to C:\\Users\\naveen kumar pandey\\Desktop\\PAPER_\\TRY\n",
      "Backed up 15.pdf to C:\\Users\\naveen kumar pandey\\Desktop\\PAPER_\\TRY\n",
      "Backed up 16.pdf to C:\\Users\\naveen kumar pandey\\Desktop\\PAPER_\\TRY\n",
      "Backed up 17.pdf to C:\\Users\\naveen kumar pandey\\Desktop\\PAPER_\\TRY\n",
      "Backed up 18.pdf to C:\\Users\\naveen kumar pandey\\Desktop\\PAPER_\\TRY\n",
      "Backed up 19.pdf to C:\\Users\\naveen kumar pandey\\Desktop\\PAPER_\\TRY\n",
      "Backed up 2.pdf to C:\\Users\\naveen kumar pandey\\Desktop\\PAPER_\\TRY\n",
      "Backed up 20.pdf to C:\\Users\\naveen kumar pandey\\Desktop\\PAPER_\\TRY\n",
      "Backed up 3.pdf to C:\\Users\\naveen kumar pandey\\Desktop\\PAPER_\\TRY\n",
      "Backed up 4.pdf to C:\\Users\\naveen kumar pandey\\Desktop\\PAPER_\\TRY\n",
      "Backed up 5.pdf to C:\\Users\\naveen kumar pandey\\Desktop\\PAPER_\\TRY\n",
      "Backed up 6.pdf to C:\\Users\\naveen kumar pandey\\Desktop\\PAPER_\\TRY\n",
      "Backed up 7.pdf to C:\\Users\\naveen kumar pandey\\Desktop\\PAPER_\\TRY\n",
      "Backed up 8.pdf to C:\\Users\\naveen kumar pandey\\Desktop\\PAPER_\\TRY\n",
      "Backed up 9.pdf to C:\\Users\\naveen kumar pandey\\Desktop\\PAPER_\\TRY\n"
     ]
    }
   ],
   "source": [
    "source = r\"C:\\Users\\naveen kumar pandey\\Desktop\\PAPER_\\TEST\"\n",
    "destination = r\"C:\\Users\\naveen kumar pandey\\Desktop\\PAPER_\\TRY\"\n",
    "\n",
    "backup_files(source, destination)"
   ]
  },
  {
   "cell_type": "code",
   "execution_count": null,
   "id": "1afa24b5-20e4-4daa-9a7e-3bdbbaca6831",
   "metadata": {},
   "outputs": [],
   "source": []
  }
 ],
 "metadata": {
  "kernelspec": {
   "display_name": "Python 3 (ipykernel)",
   "language": "python",
   "name": "python3"
  },
  "language_info": {
   "codemirror_mode": {
    "name": "ipython",
    "version": 3
   },
   "file_extension": ".py",
   "mimetype": "text/x-python",
   "name": "python",
   "nbconvert_exporter": "python",
   "pygments_lexer": "ipython3",
   "version": "3.11.7"
  }
 },
 "nbformat": 4,
 "nbformat_minor": 5
}
